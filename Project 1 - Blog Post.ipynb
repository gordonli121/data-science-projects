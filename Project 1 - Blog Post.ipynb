{
 "cells": [
  {
   "cell_type": "markdown",
   "metadata": {},
   "source": [
    "# Data"
   ]
  },
  {
   "cell_type": "markdown",
   "metadata": {},
   "source": [
    "For this project, you will pick a dataset. Inspired by Robert, there are a few public datasets from AirBnB available below, but you may also choose a dataset similar to what was used in the lessons, or an entirely different dataset. Using your dataset, you will choose 3 questions you aspire to answer from the data."
   ]
  },
  {
   "cell_type": "markdown",
   "metadata": {},
   "source": [
    "## [Stack Overflow Data - 2017 Survey](https://www.kaggle.com/stackoverflow/so-survey-2017)\n",
    "\n",
    "You might have different questions about the 2017 StackOverflow survey data than I looked at earlier in the course. If you choose this dataset, you can not use the same questions that were analyzed earlier in the classroom.\n",
    "\n",
    "Alternatively, if you felt pretty confident with the techniques in this lesson, you might be looking to push the envelope. In this case, you may choose to retrieve all of the [Stack Overflow Survey - Multiple Years results](https://insights.stackoverflow.com/survey). From this data, you could analyze trends over time. What languages were most popular in each year? What other changes can you observe over time?\n"
   ]
  },
  {
   "cell_type": "markdown",
   "metadata": {},
   "source": [
    "## [Seattle AirBNB Data](https://www.kaggle.com/airbnb/seattle/data)\n",
    "The Seattle AirBnB homes data can be used at the above link. You might pair this with the Boston AirBnB data, which can be found at the link below."
   ]
  },
  {
   "cell_type": "markdown",
   "metadata": {},
   "source": [
    "## [Boston AirBNB Data](https://www.kaggle.com/airbnb/boston)\n",
    "If you are looking to really challenge yourself, data from Seattle and Boston AirBNB homes can be used to understand how much AirBNB homes are earning in certain time frames and areas. You can compare rates between the two cities, or try to understand if there is anything about the properties that helps you predict price. Can you find negative and positive reviews based on text? This dataset requires a number of skills beyond those shown thus far in the course, but if you would like a challenge, this will certainly test your ability to work with messy, real world data.\n",
    "\n",
    "You can find additional AirBnB data at the link [here](http://insideairbnb.com/get-the-data.html)"
   ]
  },
  {
   "cell_type": "markdown",
   "metadata": {},
   "source": [
    "# Choose A Dataset of Your Own\n",
    "You are welcome to use Kaggle or another platform (or your own data) to create a blog and Github post instead of using the datasets discussed above."
   ]
  },
  {
   "cell_type": "markdown",
   "metadata": {},
   "source": [
    "## Key Steps for Project\n",
    "Feel free to be creative with your solutions, but do follow the CRISP-DM process in finding your solutions.\n",
    "\n",
    "1) Pick a dataset.\n",
    "\n",
    "2) Pose at least three questions related to business or real-world applications of how the data could be used.\n",
    "\n",
    "3) Create a Jupyter Notebook, using any associated packages you'd like, to:\n",
    "\n",
    "Prepare data:\n",
    "\n",
    "Gather necessary data to answer your questions\n",
    "Handle categorical and missing data\n",
    "Provide insight into the methods you chose and why you chose them\n",
    "Analyze, Model, and Visualize\n",
    "\n",
    "Provide a clear connection between your business questions and how the data answers them.\n",
    "4) Communicate your business insights:\n",
    "\n",
    "Create a Github repository to share your code and data wrangling/modeling techniques, with a technical audience in mind\n",
    "Create a blog post to share your questions and insights with a non-technical audience\n",
    "Your deliverables will be a Github repo and a blog post. Use the rubric [here](http://review.udacity.com/#!/rubrics/1507/view) to assist in successfully completing this project!"
   ]
  },
  {
   "cell_type": "code",
   "execution_count": null,
   "metadata": {},
   "outputs": [],
   "source": []
  }
 ],
 "metadata": {
  "kernelspec": {
   "display_name": "Python 3",
   "language": "python",
   "name": "python3"
  },
  "language_info": {
   "codemirror_mode": {
    "name": "ipython",
    "version": 3
   },
   "file_extension": ".py",
   "mimetype": "text/x-python",
   "name": "python",
   "nbconvert_exporter": "python",
   "pygments_lexer": "ipython3",
   "version": "3.6.10"
  }
 },
 "nbformat": 4,
 "nbformat_minor": 4
}
