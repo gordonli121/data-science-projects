{
 "cells": [
  {
   "cell_type": "markdown",
   "metadata": {},
   "source": [
    "# [Project Intro](https://www.youtube.com/watch?time_continue=3&v=bq-H7M5BU3U&feature=emb_title)"
   ]
  },
  {
   "cell_type": "markdown",
   "metadata": {},
   "source": [
    "# Starbuck's Capstone Challenge\n",
    "Instructions for the project can be found in the Starbucks Project Workspace."
   ]
  },
  {
   "cell_type": "markdown",
   "metadata": {},
   "source": [
    "## Dataset overview\n",
    "- The program used to create the data simulates how people make purchasing decisions and how those decisions are influenced by promotional offers.\n",
    "- Each person in the simulation has some hidden traits that influence their purchasing patterns and are associated with their observable traits. People produce various events, including receiving offers, opening offers, and making purchases.\n",
    "- As a simplification, there are no explicit products to track. Only the amounts of each transaction or offer are recorded.\n",
    "- There are three types of offers that can be sent: buy-one-get-one (BOGO), discount, and informational. In a BOGO offer, a user needs to spend a certain amount to get a reward equal to that threshold amount. In a discount, a user gains a reward equal to a fraction of the amount spent. In an informational offer, there is no reward, but neither is there a requisite amount that the user is expected to spend. Offers can be delivered via multiple channels.\n",
    "- The basic task is to use the data to identify which groups of people are most responsive to each type of offer, and how best to present each type of offer."
   ]
  },
  {
   "cell_type": "markdown",
   "metadata": {},
   "source": [
    "## Data Dictionary"
   ]
  },
  {
   "cell_type": "markdown",
   "metadata": {},
   "source": [
    "### profile.json\n",
    "\n",
    "Rewards program users (17000 users x 5 fields)\n",
    "\n",
    "- gender: (categorical) M, F, O, or null\n",
    "- age: (numeric) missing value encoded as 118\n",
    "- id: (string/hash)\n",
    "- became_member_on: (date) format YYYYMMDD\n",
    "- income: (numeric)"
   ]
  },
  {
   "cell_type": "markdown",
   "metadata": {},
   "source": [
    "### portfolio.json\n",
    "Offers sent during 30-day test period (10 offers x 6 fields)\n",
    "\n",
    "- reward: (numeric) money awarded for the amount spent\n",
    "- channels: (list) web, email, mobile, social\n",
    "- difficulty: (numeric) money required to be spent to receive reward\n",
    "- duration: (numeric) time for offer to be open, in days\n",
    "- offer_type: (string) bogo, discount, informational\n",
    "- id: (string/hash)"
   ]
  },
  {
   "cell_type": "markdown",
   "metadata": {},
   "source": [
    "### transcript.json\n",
    "Event log (306648 events x 4 fields)\n",
    "\n",
    "- person: (string/hash)\n",
    "- event: (string) offer received, offer viewed, transaction, offer completed\n",
    "- value: (dictionary) different values depending on event type\n",
    " - offer id: (string/hash) not associated with any \"transaction\"\n",
    " - amount: (numeric) money spent in \"transaction\"\n",
    " - reward: (numeric) money gained from \"offer completed\"\n",
    "- time: (numeric) hours after start of test"
   ]
  },
  {
   "cell_type": "code",
   "execution_count": null,
   "metadata": {},
   "outputs": [],
   "source": []
  }
 ],
 "metadata": {
  "kernelspec": {
   "display_name": "Python 3",
   "language": "python",
   "name": "python3"
  },
  "language_info": {
   "codemirror_mode": {
    "name": "ipython",
    "version": 3
   },
   "file_extension": ".py",
   "mimetype": "text/x-python",
   "name": "python",
   "nbconvert_exporter": "python",
   "pygments_lexer": "ipython3",
   "version": "3.6.10"
  }
 },
 "nbformat": 4,
 "nbformat_minor": 4
}
